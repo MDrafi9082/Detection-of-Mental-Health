{
  "cells": [
    {
      "cell_type": "markdown",
      "metadata": {
        "colab_type": "text",
        "id": "view-in-github"
      },
      "source": [
        "<a href=\"https://colab.research.google.com/github/Anil951/mental_health_prediction/blob/main/whatsapp_extract.ipynb\" target=\"_parent\"><img src=\"https://colab.research.google.com/assets/colab-badge.svg\" alt=\"Open In Colab\"/></a>"
      ]
    },
    {
      "cell_type": "code",
      "execution_count": null,
      "metadata": {
        "colab": {
          "base_uri": "https://localhost:8080/"
        },
        "id": "vdBUauRz9441",
        "outputId": "7f943954-8034-41b7-ad00-06738fd1c4c0"
      },
      "outputs": [
        {
          "name": "stdout",
          "output_type": "stream",
          "text": [
            "First few rows of the combined DataFrame:\n",
            "                                                 msg\n",
            "0                                    Hey… you awake?\n",
            "1                Yeah, can't sleep again. What's up?\n",
            "2  Just feeling... off, you know? Everything feel...\n",
            "3  I get it. It’s been the same for me. Every day...\n",
            "4  Exactly. It’s like I’m surrounded by people, b...\n",
            "\n",
            "Total number of messages: 43\n"
          ]
        }
      ],
      "source": [
        "import pandas as pd\n",
        "\n",
        "file_paths = [\n",
        "    \"/content/chat.txt\",\n",
        "    \"/content/chat2.txt\",\n",
        "]\n",
        "\n",
        "try:\n",
        "    \n",
        "\n",
        "except FileNotFoundError as e:\n",
        "    print(f\"File not found: {e.filename}\")\n",
        "except Exception as e:\n",
        "    print(f\"An error occurred: {e}\")\n"
      ]
    }
  ],
  "metadata": {
    "colab": {
      "authorship_tag": "ABX9TyMnnkccKTrvdKHMVsF2QzTe",
      "include_colab_link": true,
      "provenance": []
    },
    "kernelspec": {
      "display_name": "Python 3",
      "name": "python3"
    },
    "language_info": {
      "name": "python"
    }
  },
  "nbformat": 4,
  "nbformat_minor": 0
}

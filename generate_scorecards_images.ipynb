{
  "cells": [
    {
      "cell_type": "markdown",
      "metadata": {
        "colab_type": "text",
        "id": "view-in-github"
      },
      "source": [
        "<a href=\"https://colab.research.google.com/github/Anil951/Early-detection-of-mental-health/blob/main/generate_scorecards_images.ipynb\" target=\"_parent\"><img src=\"https://colab.research.google.com/assets/colab-badge.svg\" alt=\"Open In Colab\"/></a>"
      ]
    },
    {
      "cell_type": "code",
      "execution_count": null,
      "metadata": {
        "id": "KaVZw1HT6Yg8"
      },
      "outputs": [],
      "source": []
    },
    {
      "cell_type": "code",
      "execution_count": null,
      "metadata": {
        "id": "iq-kdARh6a4u"
      },
      "outputs": [],
      "source": [
        "student_data = {\n",
        "    \"Name\": \"John Doe\",\n",
        "    \"Age\": 14,\n",
        "    \"class\": \"9\",\n",
        "    \"Student_ID\": \"12345\",\n",
        "    \"Terms\": [\n",
        "        {\n",
        "            \"Term\": \"1\",\n",
        "            \"Subjects\": [\n",
        "                {\"Subject\": \"Math\", \"Score\": 88, \"Attendance\": \"90\", \"Remarks\": \"Shows strong analytical skills; attentive in class.\"},\n",
        "                {\"Subject\": \"Science\", \"Score\": 82, \"Attendance\": \"88\", \"Remarks\": \"Active in lab sessions; curious and engaged.\"},\n",
        "                {\"Subject\": \"English\", \"Score\": 85, \"Attendance\": \"91\", \"Remarks\": \"Communicates ideas well; participates in discussions.\"},\n",
        "                {\"Subject\": \"History\", \"Score\": 80, \"Attendance\": \"92\", \"Remarks\": \"Knowledgeable but could deepen analysis.\"},\n",
        "                {\"Subject\": \"Physical Education\", \"Score\": 95, \"Attendance\": \"98\", \"Remarks\": \"High energy and excellent team player.\"},\n",
        "            ],\n",
        "            \"Total\": 86,\n",
        "            \"Term_Remarks\": \"Overall consistent performance with positive engagement\"\n",
        "        },\n",
        "        {\n",
        "            \"Term\": \"2\",\n",
        "            \"Subjects\": [\n",
        "                {\"Subject\": \"Math\", \"Score\": 75, \"Attendance\": \"85\", \"Remarks\": \"Notable drop in focus; struggles with advanced problems.\"},\n",
        "                {\"Subject\": \"Science\", \"Score\": 70, \"Attendance\": \"80\", \"Remarks\": \"Lacks motivation in lab activities; needs encouragement.\"},\n",
        "                {\"Subject\": \"English\", \"Score\": 78, \"Attendance\": \"87\", \"Remarks\": \"Decreased participation in discussions; less engaged.\"},\n",
        "                {\"Subject\": \"History\", \"Score\": 74, \"Attendance\": \"89\", \"Remarks\": \"Difficulty in recalling facts; needs to focus on assignments.\"},\n",
        "                {\"Subject\": \"Physical Education\", \"Score\": 88, \"Attendance\": \"95\", \"Remarks\": \"Still actively participates,but slightly less enthusiastic.\"},\n",
        "            ],\n",
        "            \"Total\": 77,\n",
        "            \"Term_Remarks\": \"Overall decline in academic performance and engagement\"\n",
        "        },\n",
        "        {\n",
        "            \"Term\": \"3\",\n",
        "            \"Subjects\": [\n",
        "                {\"Subject\": \"Math\", \"Score\": 72, \"Attendance\": \"78\", \"Remarks\": \"Struggles with complex topics; needs extra support.\"},\n",
        "                {\"Subject\": \"Science\", \"Score\": 68, \"Attendance\": \"76\", \"Remarks\": \"Little interest shown; finds lab work challenging.\"},\n",
        "                {\"Subject\": \"English\", \"Score\": 70, \"Attendance\": \"82\", \"Remarks\": \"Noticeable drop in participation; withdrawn in group work.\"},\n",
        "                {\"Subject\": \"History\", \"Score\": 69, \"Attendance\": \"84\", \"Remarks\": \"Limited engagement; difficulties in retaining information.\"},\n",
        "                {\"Subject\": \"Physical Education\", \"Score\": 82, \"Attendance\": \"90\", \"Remarks\": \"Less active; often observed as disinterested.\"},\n",
        "            ],\n",
        "            \"Total\": 72.2,\n",
        "            \"Term_Remarks\": \"Significant decline in both performance and participation\"\n",
        "        }\n",
        "    ]\n",
        "}"
      ]
    },
    {
      "cell_type": "code",
      "execution_count": null,
      "metadata": {
        "id": "HpM_h_6y6dHe"
      },
      "outputs": [],
      "source": [
        "student_data1 = {\n",
        "    \"Name\": \"John Doe\",\n",
        "    \"Age\": 15,  \n",
        "    \"class\": \"10\", \n",
        "    \"Student_ID\": \"12345\",\n",
        "    \"Terms\": [\n",
        "        {\n",
        "            \"Term\": \"1\",\n",
        "            \"Subjects\": [\n",
        "                {\"Subject\": \"Math\", \"Score\": 90, \"Attendance\": \"92\", \"Remarks\": \"Consistently performs well; shows strong skills.\"},\n",
        "                {\"Subject\": \"Science\", \"Score\": 85, \"Attendance\": \"88\", \"Remarks\": \"Active in discussions; good understanding of concepts.\"},\n",
        "                {\"Subject\": \"English\", \"Score\": 88, \"Attendance\": \"90\", \"Remarks\": \"Strong kills; participates actively in group work.\"},\n",
        "                {\"Subject\": \"History\", \"Score\": 80, \"Attendance\": \"93\", \"Remarks\": \"Engaged in class discussions; needs improvement\"},\n",
        "                {\"Subject\": \"Physical Education\", \"Score\": 95, \"Attendance\": \"97\", \"Remarks\": \"High energy and excellent team player.\"},\n",
        "            ],\n",
        "            \"Total\": 87.6,\n",
        "            \"Term_Remarks\": \"Strong start to the year with positive engagement and good academic performance.\"\n",
        "        },\n",
        "        {\n",
        "            \"Term\": \"2\",\n",
        "            \"Subjects\": [\n",
        "                {\"Subject\": \"Math\", \"Score\": 85, \"Attendance\": \"89\", \"Remarks\": \"Shows occasional struggles ; needs extra practice\"},\n",
        "                {\"Subject\": \"Science\", \"Score\": 78, \"Attendance\": \"84\", \"Remarks\": \"Lacks motivation in class; needs more focus\"},\n",
        "                {\"Subject\": \"English\", \"Score\": 80, \"Attendance\": \"85\", \"Remarks\": \"Reduced participation; distracted in class\"},\n",
        "                {\"Subject\": \"History\", \"Score\": 72, \"Attendance\": \"88\", \"Remarks\": \"Difficulties in remembering; needs to engage more \"},\n",
        "                {\"Subject\": \"Physical Education\", \"Score\": 90, \"Attendance\": \"92\", \"Remarks\": \"should improve fitness level\"},\n",
        "            ],\n",
        "            \"Total\": 81,\n",
        "            \"Term_Remarks\": \"A noticeable drop in performance , disengagement and lower motivation.\"\n",
        "        },\n",
        "        {\n",
        "            \"Term\": \"3\",\n",
        "            \"Subjects\": [\n",
        "                {\"Subject\": \"Math\", \"Score\": 75, \"Attendance\": \"83\", \"Remarks\": \"Struggles with advanced topics; seems frustrated\"},\n",
        "                {\"Subject\": \"Science\", \"Score\": 70, \"Attendance\": \"75\", \"Remarks\": \"No interest in class; lab work is neglected\"},\n",
        "                {\"Subject\": \"English\", \"Score\": 72, \"Attendance\": \"78\", \"Remarks\": \"Very little participation; often distracted\"},\n",
        "                {\"Subject\": \"History\", \"Score\": 65, \"Attendance\": \"80\", \"Remarks\": \"Limited engagement; affecting performance\"},\n",
        "                {\"Subject\": \"Physical Education\", \"Score\": 80, \"Attendance\": \"85\", \"Remarks\": \"results decreased tired uninterested\"},\n",
        "            ],\n",
        "            \"Total\": 70.6,\n",
        "            \"Term_Remarks\": \"Continued decline in performance , disengagement and lack of focus.\"\n",
        "        }\n",
        "    ]\n",
        "}"
      ]
    },
    {
      "cell_type": "code",
      "execution_count": null,
      "metadata": {
        "id": "Gu9NMDCe6a7G"
      },
      "outputs": [],
      "source": [
        "from PIL import Image, ImageDraw, ImageFont\n",
        "\n",
        "\n",
        "def calculate_image_height(data):\n",
        "    base_height = 250  \n",
        "    table_height = 250 \n",
        "    total_height = base_height + table_height * len(data[\"Terms\"])\n",
        "    return total_height\n",
        "\n",
        "def draw_table(draw, term_data, x_start, y_start, width, font):\n",
        "    table_height = 200\n",
        "    header_height = 40\n",
        "    row_height = 30\n",
        "\n",
        "    draw.rectangle([x_start, y_start, x_start + width, y_start + header_height], fill=\"lightgray\")\n",
        "    draw.text((x_start + 10, y_start + 10), \"Subject\", fill=\"black\", font=font)\n",
        "    draw.text((x_start + 200, y_start + 10), \"Score\", fill=\"black\", font=font)\n",
        "    draw.text((x_start + 300, y_start + 10), \"Attendance\", fill=\"black\", font=font)\n",
        "    draw.text((x_start + 400, y_start + 10), \"Remarks\", fill=\"black\", font=font)\n",
        "\n",
        "    y_position = y_start + header_height\n",
        "    for subject in term_data[\"Subjects\"]:\n",
        "        draw.text((x_start + 10, y_position + 5), subject[\"Subject\"], fill=\"black\", font=font)\n",
        "        draw.text((x_start + 200, y_position + 5), f\"{subject['Score']}\", fill=\"black\", font=font)\n",
        "        draw.text((x_start + 300, y_position + 5), subject[\"Attendance\"], fill=\"black\", font=font)\n",
        "        draw.text((x_start + 400, y_position + 5), subject[\"Remarks\"], fill=\"black\", font=font)\n",
        "        y_position += row_height\n",
        "\n",
        "    draw.rectangle([x_start, y_position, x_start + width, y_position + 40], fill=\"lightgray\")\n",
        "    draw.text((x_start + 10, y_position + 10), f\"Total: {term_data['Total']}\", fill=\"black\", font=font)\n",
        "    y_position += 40\n",
        "    draw.text((x_start + 10, y_position + 5), f\"Overall Remarks: {term_data['Term_Remarks']}\", fill=\"black\", font=font)\n",
        "\n",
        "    return y_position + 50\n",
        "\n",
        "\n",
        "generate_report_card_image(student_data)"
      ]
    }
  ],
  "metadata": {
    "colab": {
      "authorship_tag": "ABX9TyPhz8Eu6bVM7KSNXPcuPvsv",
      "include_colab_link": true,
      "provenance": []
    },
    "kernelspec": {
      "display_name": "Python 3",
      "name": "python3"
    },
    "language_info": {
      "name": "python"
    }
  },
  "nbformat": 4,
  "nbformat_minor": 0
}

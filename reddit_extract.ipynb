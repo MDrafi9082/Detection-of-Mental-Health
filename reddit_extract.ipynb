{
  "cells": [
    {
      "cell_type": "markdown",
      "metadata": {
        "colab_type": "text",
        "id": "view-in-github"
      },
      "source": [
        "<a href=\"https://colab.research.google.com/github/Anil951/mental_health_prediction/blob/main/reddit_extract.ipynb\" target=\"_parent\"><img src=\"https://colab.research.google.com/assets/colab-badge.svg\" alt=\"Open In Colab\"/></a>"
      ]
    },
    {
      "cell_type": "code",
      "execution_count": null,
      "metadata": {
        "colab": {
          "base_uri": "https://localhost:8080/"
        },
        "id": "iKyVwTXC_dN6",
        "outputId": "885b47fd-7e8c-42f2-a0a7-cd3ae49fd8bf"
      },
      "outputs": [
        {
          "name": "stdout",
          "output_type": "stream",
          "text": [
            "Requirement already satisfied: asyncpraw in /usr/local/lib/python3.10/dist-packages (7.7.1)\n",
            "Requirement already satisfied: aiofiles<1 in /usr/local/lib/python3.10/dist-packages (from asyncpraw) (0.8.0)\n",
            "Requirement already satisfied: aiohttp<4 in /usr/local/lib/python3.10/dist-packages (from asyncpraw) (3.10.10)\n",
            "Requirement already satisfied: aiosqlite<=0.17.0 in /usr/local/lib/python3.10/dist-packages (from asyncpraw) (0.17.0)\n",
            "Requirement already satisfied: asyncprawcore<3,>=2.1 in /usr/local/lib/python3.10/dist-packages (from asyncpraw) (2.4.0)\n",
            "Requirement already satisfied: update-checker>=0.18 in /usr/local/lib/python3.10/dist-packages (from asyncpraw) (0.18.0)\n",
            "Requirement already satisfied: aiohappyeyeballs>=2.3.0 in /usr/local/lib/python3.10/dist-packages (from aiohttp<4->asyncpraw) (2.4.3)\n",
            "Requirement already satisfied: aiosignal>=1.1.2 in /usr/local/lib/python3.10/dist-packages (from aiohttp<4->asyncpraw) (1.3.1)\n",
            "Requirement already satisfied: attrs>=17.3.0 in /usr/local/lib/python3.10/dist-packages (from aiohttp<4->asyncpraw) (24.2.0)\n",
            "Requirement already satisfied: frozenlist>=1.1.1 in /usr/local/lib/python3.10/dist-packages (from aiohttp<4->asyncpraw) (1.4.1)\n",
            "Requirement already satisfied: multidict<7.0,>=4.5 in /usr/local/lib/python3.10/dist-packages (from aiohttp<4->asyncpraw) (6.1.0)\n",
            "Requirement already satisfied: yarl<2.0,>=1.12.0 in /usr/local/lib/python3.10/dist-packages (from aiohttp<4->asyncpraw) (1.15.2)\n",
            "Requirement already satisfied: async-timeout<5.0,>=4.0 in /usr/local/lib/python3.10/dist-packages (from aiohttp<4->asyncpraw) (4.0.3)\n",
            "Requirement already satisfied: typing_extensions>=3.7.2 in /usr/local/lib/python3.10/dist-packages (from aiosqlite<=0.17.0->asyncpraw) (4.12.2)\n",
            "Requirement already satisfied: requests>=2.3.0 in /usr/local/lib/python3.10/dist-packages (from update-checker>=0.18->asyncpraw) (2.32.3)\n",
            "Requirement already satisfied: charset-normalizer<4,>=2 in /usr/local/lib/python3.10/dist-packages (from requests>=2.3.0->update-checker>=0.18->asyncpraw) (3.4.0)\n",
            "Requirement already satisfied: idna<4,>=2.5 in /usr/local/lib/python3.10/dist-packages (from requests>=2.3.0->update-checker>=0.18->asyncpraw) (3.10)\n",
            "Requirement already satisfied: urllib3<3,>=1.21.1 in /usr/local/lib/python3.10/dist-packages (from requests>=2.3.0->update-checker>=0.18->asyncpraw) (2.2.3)\n",
            "Requirement already satisfied: certifi>=2017.4.17 in /usr/local/lib/python3.10/dist-packages (from requests>=2.3.0->update-checker>=0.18->asyncpraw) (2024.8.30)\n",
            "Requirement already satisfied: propcache>=0.2.0 in /usr/local/lib/python3.10/dist-packages (from yarl<2.0,>=1.12.0->aiohttp<4->asyncpraw) (0.2.0)\n"
          ]
        }
      ],
      "source": [
        "pip install asyncpraw"
      ]
    },
    {
      "cell_type": "code",
      "execution_count": null,
      "metadata": {
        "colab": {
          "base_uri": "https://localhost:8080/"
        },
        "id": "Hysg97wx93-h",
        "outputId": "d2e485e0-57fb-4719-f233-f383f68dda99"
      },
      "outputs": [
        {
          "name": "stdout",
          "output_type": "stream",
          "text": [
            "Enter Reddit username: WhiteHouse\n"
          ]
        }
      ],
      "source": [
        "import asyncpraw\n",
        "import nest_asyncio\n",
        "import asyncio\n",
        "\n",
        "nest_asyncio.apply()\n",
        "\n",
        "data = []\n",
        "subreddits = {}\n",
        "\n",
        "async def fetch_user_data(username):\n",
        "    async with asyncpraw.Reddit(\n",
        "        client_id='gPWNZxE-hepzoXXwx2GcOQ',  \n",
        "        client_secret='vrQVQDP3y5G-uogU7seq6wa-PgfFZQ',  \n",
        "        user_agent='MentalHealthAnalyzer/0.1',\n",
        "    ) as reddit:\n",
        "        user = await reddit.redditor(username)\n",
        "\n",
        "        global data, subreddits  \n",
        "\n",
        "        user_data = []\n",
        "        subreddit_info = {} \n",
        "        async for comment in user.comments.new(limit=20):\n",
        "            subreddit = comment.subreddit\n",
        "            await subreddit.load()  \n",
        "\n",
        "            user_data.append(comment.body)  \n",
        "\n",
        "            if subreddit.display_name not in subreddit_info:\n",
        "                subreddit_info[subreddit.display_name] = subreddit.public_description\n",
        "\n",
        "        data = user_data\n",
        "        subreddits = subreddit_info\n",
        "\n",
        "\n",
        "\n",
        "async def main():\n",
        "    username_input = input(\"Enter Reddit username: \")\n",
        "    await fetch_user_data(username_input)\n",
        "\n",
        "await main()"
      ]
    },
    {
      "cell_type": "code",
      "execution_count": null,
      "metadata": {
        "colab": {
          "base_uri": "https://localhost:8080/"
        },
        "id": "gZvSSV4Q_MR2",
        "outputId": "0834a6fb-bf10-4e98-dff0-9a126dbbaab9"
      },
      "outputs": [
        {
          "name": "stdout",
          "output_type": "stream",
          "text": [
            "Comments DataFrame:\n",
            "                                             Comment\n",
            "0  President Biden knows that when unions do well...\n",
            "1  On Friday evening, President Biden approved a ...\n",
            "2  No, the $750 from FEMA for Hurricane Helene su...\n",
            "3                               Yep, it’s really us!\n",
            "\n",
            "Subreddit Descriptions DataFrame:\n",
            "                                         Description\n",
            "0  /r/union is a subreddit about people working s...\n",
            "1  The subreddit about, for, and by Sandhill Cranes.\n",
            "2                  Place to discuss hurricane helene\n",
            "3                          All Things North Carolina\n"
          ]
        }
      ],
      "source": [
        "import pandas as pd\n",
        "\n",
        "comments_df = pd.DataFrame(data, columns=['Comment'])\n",
        "\n",
        "print(\"Comments DataFrame:\")\n",
        "print(comments_df)\n",
        "\n",
        "subreddits_df = pd.DataFrame(list(subreddits.values()), columns=['Description'])\n",
        "\n",
        "print(\"\\nSubreddit Descriptions DataFrame:\")\n",
        "print(subreddits_df)\n",
        "\n"
      ]
    }
  ],
  "metadata": {
    "colab": {
      "authorship_tag": "ABX9TyMa3VEhU4/+p10fow+4Ziuh",
      "include_colab_link": true,
      "provenance": []
    },
    "kernelspec": {
      "display_name": "Python 3",
      "name": "python3"
    },
    "language_info": {
      "name": "python"
    }
  },
  "nbformat": 4,
  "nbformat_minor": 0
}

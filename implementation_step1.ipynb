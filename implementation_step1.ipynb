{
  "cells": [
    {
      "cell_type": "markdown",
      "metadata": {
        "colab_type": "text",
        "id": "view-in-github"
      },
      "source": [
        "<a href=\"https://colab.research.google.com/github/Anil951/Early-detection-of-mental-health/blob/main/implementation.ipynb\" target=\"_parent\"><img src=\"https://colab.research.google.com/assets/colab-badge.svg\" alt=\"Open In Colab\"/></a>"
      ]
    },
    {
      "cell_type": "code",
      "execution_count": null,
      "metadata": {
        "colab": {
          "base_uri": "https://localhost:8080/"
        },
        "id": "-jJJdMxxB4Xz",
        "outputId": "a4c0143e-9c92-431d-aeae-43af5782177e"
      },
      "outputs": [
        {
          "name": "stdout",
          "output_type": "stream",
          "text": [
            "-----------------EARLY DETECTION OF MENTAL HEALTH ISSUES IN ADOLESCENTS SYSTEM------------------------\n",
            "\n",
            "\n",
            "WE ARE DEALING IN 3 STAGES\n",
            "\n",
            "\n",
            "in STAGE-1: All the social media platform data of the user is collected and analysed with our trained model- \n",
            "to get NORMAL/NOT NORMAL in corresponding to MENTAL HEALTH - a score will be assigned\n",
            "\n",
            "in STAGE-2: The use shoudl give us his/her recent exam scores and remarks given by the teachers/mentors - \n",
            "our trained model will evaluate and assign a score\n",
            "\n",
            "in STAGE-3: The use can submit his health record scans \n",
            "\n",
            "\n",
            "------------IN FINAL WE GIVE ANY RECOMMENDATIONS BASED ON OUR RESULTS------------\n"
          ]
        }
      ],
      "source": [
        "print(\" EARLY DETECTION OF MENTAL HEALTH ISSUES IN ADOLESCENTS SYSTEM \")\n",
        "\n",
        "print(\"\\n\\nWE ARE DEALING IN 3 STAGES\\n\\n\")\n",
        "\n",
        "print(\"in STAGE-1: All the social media platform data of the user is collected and analysed with our trained model- \")\n",
        "print(\"to get NORMAL/NOT NORMAL in corresponding to MENTAL HEALTH - a score will be assigned\\n\")\n",
        "print(\"in STAGE-2: The use shoudl give us his/her recent exam scores and remarks given by the teachers/mentors - \")\n",
        "print(\"our trained model will evaluate and assign a score \\n\")\n",
        "print(\"in STAGE-3: The use can submit his health record scans \")\n",
        "\n",
        "print(\"\\n\\n IN FINAL WE GIVE ANY RECOMMENDATIONS BASED ON OUR RESULTS \")"
      ]
    },
    {
      "cell_type": "code",
      "execution_count": null,
      "metadata": {
        "colab": {
          "base_uri": "https://localhost:8080/"
        },
        "id": "8n82ysXuCFh5",
        "outputId": "12a7dd64-ff5e-4669-9d98-79be18f3f7d0"
      },
      "outputs": [
        {
          "name": "stdout",
          "output_type": "stream",
          "text": [
            "Enter Reddit username: cats\n",
            "Comments DataFrame:\n",
            "                                              Comment\n",
            "0                                                Very\n",
            "1   Take it as a $10k lesson and move on.\\n\\nI’d s...\n",
            "2                                                Both\n",
            "3   CRO has two chains actually. Crypto.com chain ...\n",
            "4   [https://leaderboard.bitfinex.com/](https://le...\n",
            "5   Everyone buys shit to sell later at a higher p...\n",
            "6   People love fun. NFTs are fun. End of discussion.\n",
            "7   It will hit 63k, 100k, and eventually 500k. Th...\n",
            "8   How does burning a fee turn a currency into a ...\n",
            "9   Scam. The actual website is lostpoets.xyz.\\n\\n...\n",
            "10                       Nano has no smart contracts.\n",
            "11  You will see old lockers under \"Archives\".\\n\\n...\n",
            "12                                               USDC\n",
            "13  PancakeSwap if you're willing to put liquidity...\n",
            "14  SafeMoon killer is here guys. Invest or get le...\n",
            "15  Better than GhostFace and HODL. Love the auto ...\n",
            "16  Great team. Very active in chat and got big pl...\n",
            "17  I am in. Devs are based. Listen to community, ...\n",
            "18                                  LFGGGGGGGGGGGGGGG\n",
            "19                                    LFGGGGGGGGGGGG!\n",
            "\n",
            "Subreddit Descriptions DataFrame:\n",
            "                                         Description\n",
            "0  r/AskReddit is the place to ask and answer tho...\n",
            "1  The leading community for cryptocurrency news,...\n",
            "2  This subreddit is a place to discuss low marke...\n",
            "3  This is a community run group for DxSale. This...\n",
            "4  BSC Moonshots! Made for the underground moonsh...\n"
          ]
        }
      ],
      "source": [
        "\n",
        "\n",
        "import pandas as pd\n",
        "\n",
        "reddit_comments_df = pd.DataFrame(data, columns=['Comment'])\n",
        "\n",
        "print(\"Comments DataFrame:\")\n",
        "print(reddit_comments_df)\n",
        "\n",
        "subreddits_df = pd.DataFrame(list(subreddits.values()), columns=['Description'])\n",
        "\n",
        "print(\"\\nSubreddit Descriptions DataFrame:\")\n",
        "print(subreddits_df)"
      ]
    },
    {
      "cell_type": "code",
      "execution_count": null,
      "metadata": {
        "colab": {
          "base_uri": "https://localhost:8080/"
        },
        "id": "3fmbrWkMCRez",
        "outputId": "b6447444-0f17-4208-918d-0caf3c6a6b3f"
      },
      "outputs": [
        {
          "name": "stdout",
          "output_type": "stream",
          "text": [
            "First few rows of the combined DataFrame:\n",
            "                                                 msg\n",
            "0                                    Hey… you awake?\n",
            "1                Yeah, can't sleep again. What's up?\n",
            "2  Just feeling... off, you know? Everything feel...\n",
            "3  I get it. It’s been the same for me. Every day...\n",
            "4  Exactly. It’s like I’m surrounded by people, b...\n",
            "\n",
            "Total number of messages: 43\n"
          ]
        }
      ],
      "source": [
        "import pandas as pd\n",
        "\n",
        "file_paths = [\n",
        "    \"/content/chat.txt\",\n",
        "    \"/content/chat2.txt\",\n",
        "]\n",
        "\n"
      ]
    },
    {
      "cell_type": "code",
      "execution_count": null,
      "metadata": {
        "id": "UqLfu35hDRLb"
      },
      "outputs": [],
      "source": [
        "import pickle\n",
        "\n",
        "with open('/content/model_nb.pkl', 'rb') as f:\n",
        "    model = pickle.load(f)\n",
        "\n",
        "\n",
        "reddit_comments_df['res_status'] = reddit_comments_df['Comment'].apply(predict_status)\n",
        "subreddits_df['res_status'] = subreddits_df['Description'].apply(predict_status)\n",
        "wasap_msg_df['res_status'] = wasap_msg_df['msg'].apply(predict_status)"
      ]
    },
    {
      "cell_type": "code",
      "execution_count": null,
      "metadata": {
        "id": "piMDBu7oDJZY"
      },
      "outputs": [],
      "source": [
        "def get_overall_recommendation(dfs_dict):\n",
        "    total_normal = 0\n",
        "    total_not_normal = 0\n",
        "\n",
        "    RED = \"\\033[91m\"\n",
        "    GREEN = \"\\033[92m\"\n",
        "    RESET = \"\\033[0m\"  \n",
        "\n",
        "    for df_name, df in dfs_dict.items():\n",
        "        counts = df['res_status'].value_counts()\n",
        "        total_normal += counts.get('NORMAL', 0)\n",
        "        total_not_normal += counts.get('NOT NORMAL', 0)\n",
        "\n",
        "    print(f\"\\nTotal {GREEN}NORMAL{RESET} messages across all platforms: {GREEN}{total_normal}{RESET}\")\n",
        "    print(f\"Total {RED}NOT NORMAL{RESET} messages across all platforms: {RED}{total_not_normal}{RESET}\")\n",
        "\n",
        "    if total_normal > 0 and (total_not_normal / total_normal) >= 0.4:\n",
        "        print(f\"\\n{RED}WARNING: The person may be prone to mental health issues (NOT NORMAL messages are 40% or more of NORMAL messages).{RESET}\")\n",
        "\n",
        "    if total_normal > total_not_normal:\n",
        "        print(f\"\\nSTAGE-1 : FINAL ASSESSMENT: {GREEN}No major mental health concerns - normal.{RESET}\")\n",
        "    else:\n",
        "        print(f\"\\nSTAGE-1 : FINAL ASSESSMENT: {RED}Mental health concerns detected - doctor recommended.{RESET}\")\n"
      ]
    },
    {
      "cell_type": "code",
      "execution_count": null,
      "metadata": {
        "colab": {
          "base_uri": "https://localhost:8080/"
        },
        "id": "V_aNG-GsDvTy",
        "outputId": "1b09e65c-79e1-4997-dcc9-9b874aaa531d"
      },
      "outputs": [
        {
          "name": "stdout",
          "output_type": "stream",
          "text": [
            "\n",
            "Total \u001b[92mNORMAL\u001b[0m messages across all platforms: \u001b[92m47\u001b[0m\n",
            "Total \u001b[91mNOT NORMAL\u001b[0m messages across all platforms: \u001b[91m21\u001b[0m\n",
            "\n",
            "\u001b[91mWARNING: The person may be prone to mental health issues (NOT NORMAL messages are 40% or more of NORMAL messages).\u001b[0m\n",
            "\n",
            "STAGE-1 : FINAL ASSESSMENT: \u001b[92mNo major mental health concerns - normal.\u001b[0m\n"
          ]
        }
      ],
      "source": [
        "# here"
      ]
    }
  ],
  "metadata": {
    "colab": {
      "authorship_tag": "ABX9TyNQaGZYD+ZRx5lY6mnSfNKu",
      "include_colab_link": true,
      "provenance": []
    },
    "kernelspec": {
      "display_name": "Python 3",
      "name": "python3"
    },
    "language_info": {
      "name": "python"
    }
  },
  "nbformat": 4,
  "nbformat_minor": 0
}
